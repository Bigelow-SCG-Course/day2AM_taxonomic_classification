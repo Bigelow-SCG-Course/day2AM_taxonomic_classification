{
 "cells": [
  {
   "cell_type": "markdown",
   "id": "ede919e1-f571-47b2-9a8b-e6d8fd93ac46",
   "metadata": {},
   "source": [
    "The purpose of this notebook is to setup an environment for following along with the day2am lesson for the SCG Bioinformatics Course."
   ]
  },
  {
   "cell_type": "markdown",
   "id": "b04a0a2b-f13e-42a8-a036-1fc33b8ccfc7",
   "metadata": {},
   "source": [
    "## Data Environment Setup\n",
    "\n",
    "```\n",
    "$ mkdir ~/storage/user_lab/{your_username}/day2am_taxonomy_lesson\n",
    "```\n",
    "\n",
    "**TODO: Standardize this across lessons... perhaps they clone the lesson to this location?**  \n",
    "Now navigate into your project directory ( ~/storage/user_lab/{your_username}/day2am_taxonomy_lesson) and start a jupyter notebook using the file system navigator side bar.  \n",
    "\n",
    "run:\n",
    "\n",
    "```\n",
    "git clone git@github.com:Bigelow-SCG-Course/day2_am_taxonomic_classification.git\n",
    "```"
   ]
  },
  {
   "cell_type": "markdown",
   "id": "939b2afa-7eab-4aa5-a3c6-4490283fb7a3",
   "metadata": {},
   "source": [
    "## Software Environment Setup\n",
    "\n",
    "This tutorial will use standard python data science packages.  The environment we will use will the the 'biopy' environment.  \n",
    "\n",
    "It is pre-installed on the jupyter hub.  To activate it in the terminal type:\n",
    "\n",
    "```\n",
    "conda activate biopy\n",
    "```\n",
    "\n",
    "**TODO: this is currently a local environment for me... I need to install it as root so that everyone has access.**\n",
    "\n",
    "To use it in a jupyter notebook, select the 'biopy' kernel on the upper right-hand side of the screen."
   ]
  }
 ],
 "metadata": {
  "kernelspec": {
   "display_name": "biopy",
   "language": "python",
   "name": "biopy"
  },
  "language_info": {
   "codemirror_mode": {
    "name": "ipython",
    "version": 3
   },
   "file_extension": ".py",
   "mimetype": "text/x-python",
   "name": "python",
   "nbconvert_exporter": "python",
   "pygments_lexer": "ipython3",
   "version": "3.10.0"
  }
 },
 "nbformat": 4,
 "nbformat_minor": 5
}
