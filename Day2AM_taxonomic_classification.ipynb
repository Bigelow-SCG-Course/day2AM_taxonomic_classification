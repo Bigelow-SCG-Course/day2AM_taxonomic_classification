{
 "cells": [
  {
   "cell_type": "markdown",
   "metadata": {
    "tags": []
   },
   "source": [
    "# GTDB classification overview\n",
    "\n",
    "For taxonomic classification we generally use [GTDB](https://gtdb.ecogenomic.org/) in order to assign taxonomy to our SAGs. We like GTDB because it uses a combination of marker genes and ANI based clustering methods to classify SAGs. GTDB also has an extremely large (~250,000) genomes that is uses for the ANI classification. The utilization of this databse is critical for enviornmental samples.\n",
    "[Paper](https://academic.oup.com/bioinformatics/advance-article-abstract/doi/10.1093/bioinformatics/btz848/5626182) describing the software and database\n",
    "\n",
    "[Github](https://github.com/Ecogenomics/GTDBTk) repository with documentation\n",
    "\n",
    "Like many of the software programs that we use GTDB is available to install from anaconda. We create a conda environment and install the GTDB software and all of its dependencies there. Installation instructions available [here](https://ecogenomics.github.io/GTDBTk/installing/bioconda.html)\n",
    "```\n",
    "conda create -n gtdbtk-1.5.0 -c conda-forge -c bioconda gtdbtk=1.5.0\n",
    "conda activate gtdbtk-1.5.0\n",
    "\n",
    "```\n",
    "You can check your install with this command \n",
    "```\n",
    "gtdbtk check_install\n",
    "```\n",
    "\n",
    "Once the software is insalled you have to download the databases. Note that the databases for GTDB are extremely large and require a total of (~230 GB of storage) in order to isntall both Archaea and Bacteria databases.\n",
    "\n",
    "# Do NOT run this command on the hub.\n",
    "```\n",
    "download-db.sh\n",
    "```\n",
    "\n",
    "GTDB comes with multiple workflows and options that you can run. Most of the time the classify_wf worfklow is going to be the one that you use to classify SAGs.\n",
    "\n",
    "<br>\n"
   ]
  },
  {
   "cell_type": "markdown",
   "metadata": {},
   "source": [
    "GTDBtk classify_wf is a beast of a workflow, and has really high memory and storage requirements.  As such, we've run all AG-910 SAGs through GTDBtk in advance of this course so that we don't burden this hub.\n",
    "\n",
    "The command we used to run GTDBtk is:\n",
    "```\n",
    "gtdbtk classify_wf --genome_dir storage/data/contigs/AG-910 --out_dir storage/lesson_analyses/GTDB/AG-910_gtdb_1.5_classify_wf_out2 --cpus 64 -x fasta\n",
    "```\n",
    "\n",
    "You can find the results of that run here:\n",
    "```\n",
    "~/storage/data/Analyses/GTDB/AG-910_gtdb_1.5_classify_wf_out2\n",
    "```\n",
    "\n",
    "Let's look through the output directory now:"
   ]
  },
  {
   "cell_type": "code",
   "execution_count": 1,
   "metadata": {},
   "outputs": [
    {
     "name": "stdout",
     "output_type": "stream",
     "text": [
      "align\t\t\t\t   gtdbtk.bac120.msa.fasta\n",
      "classify\t\t\t   gtdbtk.bac120.summary.tsv\n",
      "gtdbtk.ar122.filtered.tsv\t   gtdbtk.bac120.user_msa.fasta\n",
      "gtdbtk.ar122.markers_summary.tsv   gtdbtk.failed_genomes.tsv\n",
      "gtdbtk.ar122.msa.fasta\t\t   gtdbtk.log\n",
      "gtdbtk.bac120.classify.tree\t   gtdbtk.translation_table_summary.tsv\n",
      "gtdbtk.bac120.filtered.tsv\t   gtdbtk.warnings.log\n",
      "gtdbtk.bac120.markers_summary.tsv  identify\n"
     ]
    }
   ],
   "source": [
    "!ls /mnt/storage/lesson_analyses/GTDB/AG-910_gtdb_1.5_classify_wf_out2"
   ]
  },
  {
   "cell_type": "markdown",
   "metadata": {},
   "source": [
    "There are a number of different outputs.  The single most important file is:\n",
    "\n",
    "gtdbtk.bac120.summary.tsv: This file contains a summary of the classification, classification method, and any errors or warnings that might have happened.\n",
    "\n",
    "Now, let's take a deep dive into the summary file for this plate so that we can explore the taxonomic annotations of different single cells in our sample."
   ]
  },
  {
   "cell_type": "code",
   "execution_count": 2,
   "metadata": {},
   "outputs": [],
   "source": [
    "import pandas as pd\n",
    "import os\n",
    "import sys\n",
    "import csv\n",
    "import numpy as np\n",
    "import matplotlib\n",
    "import matplotlib.pyplot as plt\n",
    "import glob\n",
    "import seaborn as sns\n",
    "\n",
    "# modify pandas variabls to only show 10 rows.\n",
    "pd.set_option(\"display.max_rows\", 10)\n",
    "\n",
    "os.chdir('/mnt/storage/user_lab/jmunson-mcgee/day2am_taxonomy_lesson/')\n",
    "\n",
    "outdir = \"./tbls/\"\n",
    "figdir = \"./figs/\"\n",
    "\n",
    "if not os.path.exists(outdir):\n",
    "    os.mkdir(outdir)\n",
    "if not os.path.exists(figdir):\n",
    "    os.mkdir(figdir)\n",
    "\n",
    "summary_file = '/mnt/storage/lesson_analyses/GTDB/AG-910_gtdb_1.5_classify_wf_out2/gtdbtk.bac120.summary.tsv'"
   ]
  },
  {
   "cell_type": "markdown",
   "metadata": {},
   "source": [
    "# First step load the data into dataframes and examine it. \n"
   ]
  },
  {
   "cell_type": "code",
   "execution_count": 3,
   "metadata": {},
   "outputs": [
    {
     "data": {
      "text/html": [
       "<div>\n",
       "<style scoped>\n",
       "    .dataframe tbody tr th:only-of-type {\n",
       "        vertical-align: middle;\n",
       "    }\n",
       "\n",
       "    .dataframe tbody tr th {\n",
       "        vertical-align: top;\n",
       "    }\n",
       "\n",
       "    .dataframe thead th {\n",
       "        text-align: right;\n",
       "    }\n",
       "</style>\n",
       "<table border=\"1\" class=\"dataframe\">\n",
       "  <thead>\n",
       "    <tr style=\"text-align: right;\">\n",
       "      <th></th>\n",
       "      <th>user_genome</th>\n",
       "      <th>classification</th>\n",
       "      <th>fastani_reference</th>\n",
       "      <th>fastani_reference_radius</th>\n",
       "      <th>fastani_taxonomy</th>\n",
       "      <th>fastani_ani</th>\n",
       "      <th>fastani_af</th>\n",
       "      <th>closest_placement_reference</th>\n",
       "      <th>closest_placement_radius</th>\n",
       "      <th>closest_placement_taxonomy</th>\n",
       "      <th>closest_placement_ani</th>\n",
       "      <th>closest_placement_af</th>\n",
       "      <th>pplacer_taxonomy</th>\n",
       "      <th>classification_method</th>\n",
       "      <th>note</th>\n",
       "      <th>other_related_references(genome_id,species_name,radius,ANI,AF)</th>\n",
       "      <th>msa_percent</th>\n",
       "      <th>translation_table</th>\n",
       "      <th>red_value</th>\n",
       "      <th>warnings</th>\n",
       "    </tr>\n",
       "  </thead>\n",
       "  <tbody>\n",
       "    <tr>\n",
       "      <th>0</th>\n",
       "      <td>AG-910-A02_contigs</td>\n",
       "      <td>d__Bacteria;p__Proteobacteria;c__Gammaproteoba...</td>\n",
       "      <td>GCA_003280455.1</td>\n",
       "      <td>95.0</td>\n",
       "      <td>d__Bacteria;p__Proteobacteria;c__Gammaproteoba...</td>\n",
       "      <td>95.95</td>\n",
       "      <td>0.80</td>\n",
       "      <td>GCA_003280455.1</td>\n",
       "      <td>95.0</td>\n",
       "      <td>d__Bacteria;p__Proteobacteria;c__Gammaproteoba...</td>\n",
       "      <td>95.95</td>\n",
       "      <td>0.80</td>\n",
       "      <td>d__Bacteria;p__Proteobacteria;c__Gammaproteoba...</td>\n",
       "      <td>taxonomic classification defined by topology a...</td>\n",
       "      <td>topological placement and ANI have congruent s...</td>\n",
       "      <td>GCA_902563885.1, s__TMED112 sp902563885, 95.0,...</td>\n",
       "      <td>52.63</td>\n",
       "      <td>11</td>\n",
       "      <td>NaN</td>\n",
       "      <td>NaN</td>\n",
       "    </tr>\n",
       "    <tr>\n",
       "      <th>1</th>\n",
       "      <td>AG-910-A04_contigs</td>\n",
       "      <td>d__Bacteria;p__Actinobacteriota;c__Acidimicrob...</td>\n",
       "      <td>GCA_902615855.1</td>\n",
       "      <td>95.0</td>\n",
       "      <td>d__Bacteria;p__Actinobacteriota;c__Acidimicrob...</td>\n",
       "      <td>99.96</td>\n",
       "      <td>0.94</td>\n",
       "      <td>GCA_902615855.1</td>\n",
       "      <td>95.0</td>\n",
       "      <td>d__Bacteria;p__Actinobacteriota;c__Acidimicrob...</td>\n",
       "      <td>99.96</td>\n",
       "      <td>0.94</td>\n",
       "      <td>d__Bacteria;p__Actinobacteriota;c__Acidimicrob...</td>\n",
       "      <td>taxonomic classification defined by topology a...</td>\n",
       "      <td>topological placement and ANI have congruent s...</td>\n",
       "      <td>GCA_003213625.1, s__Actinomarina sp003213625, ...</td>\n",
       "      <td>31.09</td>\n",
       "      <td>11</td>\n",
       "      <td>NaN</td>\n",
       "      <td>NaN</td>\n",
       "    </tr>\n",
       "    <tr>\n",
       "      <th>2</th>\n",
       "      <td>AG-910-A06_contigs</td>\n",
       "      <td>d__Bacteria;p__Proteobacteria;c__Alphaproteoba...</td>\n",
       "      <td>GCA_902567045.1</td>\n",
       "      <td>95.0</td>\n",
       "      <td>d__Bacteria;p__Proteobacteria;c__Alphaproteoba...</td>\n",
       "      <td>97.82</td>\n",
       "      <td>0.84</td>\n",
       "      <td>GCA_902567045.1</td>\n",
       "      <td>95.0</td>\n",
       "      <td>d__Bacteria;p__Proteobacteria;c__Alphaproteoba...</td>\n",
       "      <td>97.82</td>\n",
       "      <td>0.84</td>\n",
       "      <td>d__Bacteria;p__Proteobacteria;c__Alphaproteoba...</td>\n",
       "      <td>taxonomic classification defined by topology a...</td>\n",
       "      <td>topological placement and ANI have congruent s...</td>\n",
       "      <td>GCA_902596915.1, s__Pelagibacter sp902596915, ...</td>\n",
       "      <td>70.76</td>\n",
       "      <td>11</td>\n",
       "      <td>NaN</td>\n",
       "      <td>NaN</td>\n",
       "    </tr>\n",
       "    <tr>\n",
       "      <th>3</th>\n",
       "      <td>AG-910-A10_contigs</td>\n",
       "      <td>d__Bacteria;p__Proteobacteria;c__Gammaproteoba...</td>\n",
       "      <td>GCA_902518715.1</td>\n",
       "      <td>95.0</td>\n",
       "      <td>d__Bacteria;p__Proteobacteria;c__Gammaproteoba...</td>\n",
       "      <td>96.38</td>\n",
       "      <td>0.80</td>\n",
       "      <td>GCA_902518715.1</td>\n",
       "      <td>95.0</td>\n",
       "      <td>d__Bacteria;p__Proteobacteria;c__Gammaproteoba...</td>\n",
       "      <td>96.38</td>\n",
       "      <td>0.80</td>\n",
       "      <td>d__Bacteria;p__Proteobacteria;c__Gammaproteoba...</td>\n",
       "      <td>taxonomic classification defined by topology a...</td>\n",
       "      <td>topological placement and ANI have congruent s...</td>\n",
       "      <td>GCA_902541365.1, s__CACNXK01 sp902541365, 95.0...</td>\n",
       "      <td>68.37</td>\n",
       "      <td>11</td>\n",
       "      <td>NaN</td>\n",
       "      <td>NaN</td>\n",
       "    </tr>\n",
       "    <tr>\n",
       "      <th>4</th>\n",
       "      <td>AG-910-A13_contigs</td>\n",
       "      <td>d__Bacteria;p__Proteobacteria;c__Gammaproteoba...</td>\n",
       "      <td>GCA_002702235.1</td>\n",
       "      <td>95.0</td>\n",
       "      <td>d__Bacteria;p__Proteobacteria;c__Gammaproteoba...</td>\n",
       "      <td>98.62</td>\n",
       "      <td>0.92</td>\n",
       "      <td>GCA_002702235.1</td>\n",
       "      <td>95.0</td>\n",
       "      <td>d__Bacteria;p__Proteobacteria;c__Gammaproteoba...</td>\n",
       "      <td>98.62</td>\n",
       "      <td>0.92</td>\n",
       "      <td>d__Bacteria;p__Proteobacteria;c__Gammaproteoba...</td>\n",
       "      <td>taxonomic classification defined by topology a...</td>\n",
       "      <td>topological placement and ANI have congruent s...</td>\n",
       "      <td>NaN</td>\n",
       "      <td>43.52</td>\n",
       "      <td>11</td>\n",
       "      <td>NaN</td>\n",
       "      <td>NaN</td>\n",
       "    </tr>\n",
       "  </tbody>\n",
       "</table>\n",
       "</div>"
      ],
      "text/plain": [
       "          user_genome                                     classification  \\\n",
       "0  AG-910-A02_contigs  d__Bacteria;p__Proteobacteria;c__Gammaproteoba...   \n",
       "1  AG-910-A04_contigs  d__Bacteria;p__Actinobacteriota;c__Acidimicrob...   \n",
       "2  AG-910-A06_contigs  d__Bacteria;p__Proteobacteria;c__Alphaproteoba...   \n",
       "3  AG-910-A10_contigs  d__Bacteria;p__Proteobacteria;c__Gammaproteoba...   \n",
       "4  AG-910-A13_contigs  d__Bacteria;p__Proteobacteria;c__Gammaproteoba...   \n",
       "\n",
       "  fastani_reference  fastani_reference_radius  \\\n",
       "0   GCA_003280455.1                      95.0   \n",
       "1   GCA_902615855.1                      95.0   \n",
       "2   GCA_902567045.1                      95.0   \n",
       "3   GCA_902518715.1                      95.0   \n",
       "4   GCA_002702235.1                      95.0   \n",
       "\n",
       "                                    fastani_taxonomy  fastani_ani  fastani_af  \\\n",
       "0  d__Bacteria;p__Proteobacteria;c__Gammaproteoba...        95.95        0.80   \n",
       "1  d__Bacteria;p__Actinobacteriota;c__Acidimicrob...        99.96        0.94   \n",
       "2  d__Bacteria;p__Proteobacteria;c__Alphaproteoba...        97.82        0.84   \n",
       "3  d__Bacteria;p__Proteobacteria;c__Gammaproteoba...        96.38        0.80   \n",
       "4  d__Bacteria;p__Proteobacteria;c__Gammaproteoba...        98.62        0.92   \n",
       "\n",
       "  closest_placement_reference  closest_placement_radius  \\\n",
       "0             GCA_003280455.1                      95.0   \n",
       "1             GCA_902615855.1                      95.0   \n",
       "2             GCA_902567045.1                      95.0   \n",
       "3             GCA_902518715.1                      95.0   \n",
       "4             GCA_002702235.1                      95.0   \n",
       "\n",
       "                          closest_placement_taxonomy  closest_placement_ani  \\\n",
       "0  d__Bacteria;p__Proteobacteria;c__Gammaproteoba...                  95.95   \n",
       "1  d__Bacteria;p__Actinobacteriota;c__Acidimicrob...                  99.96   \n",
       "2  d__Bacteria;p__Proteobacteria;c__Alphaproteoba...                  97.82   \n",
       "3  d__Bacteria;p__Proteobacteria;c__Gammaproteoba...                  96.38   \n",
       "4  d__Bacteria;p__Proteobacteria;c__Gammaproteoba...                  98.62   \n",
       "\n",
       "   closest_placement_af                                   pplacer_taxonomy  \\\n",
       "0                  0.80  d__Bacteria;p__Proteobacteria;c__Gammaproteoba...   \n",
       "1                  0.94  d__Bacteria;p__Actinobacteriota;c__Acidimicrob...   \n",
       "2                  0.84  d__Bacteria;p__Proteobacteria;c__Alphaproteoba...   \n",
       "3                  0.80  d__Bacteria;p__Proteobacteria;c__Gammaproteoba...   \n",
       "4                  0.92  d__Bacteria;p__Proteobacteria;c__Gammaproteoba...   \n",
       "\n",
       "                               classification_method  \\\n",
       "0  taxonomic classification defined by topology a...   \n",
       "1  taxonomic classification defined by topology a...   \n",
       "2  taxonomic classification defined by topology a...   \n",
       "3  taxonomic classification defined by topology a...   \n",
       "4  taxonomic classification defined by topology a...   \n",
       "\n",
       "                                                note  \\\n",
       "0  topological placement and ANI have congruent s...   \n",
       "1  topological placement and ANI have congruent s...   \n",
       "2  topological placement and ANI have congruent s...   \n",
       "3  topological placement and ANI have congruent s...   \n",
       "4  topological placement and ANI have congruent s...   \n",
       "\n",
       "  other_related_references(genome_id,species_name,radius,ANI,AF)  msa_percent  \\\n",
       "0  GCA_902563885.1, s__TMED112 sp902563885, 95.0,...                    52.63   \n",
       "1  GCA_003213625.1, s__Actinomarina sp003213625, ...                    31.09   \n",
       "2  GCA_902596915.1, s__Pelagibacter sp902596915, ...                    70.76   \n",
       "3  GCA_902541365.1, s__CACNXK01 sp902541365, 95.0...                    68.37   \n",
       "4                                                NaN                    43.52   \n",
       "\n",
       "   translation_table  red_value warnings  \n",
       "0                 11        NaN      NaN  \n",
       "1                 11        NaN      NaN  \n",
       "2                 11        NaN      NaN  \n",
       "3                 11        NaN      NaN  \n",
       "4                 11        NaN      NaN  "
      ]
     },
     "execution_count": 3,
     "metadata": {},
     "output_type": "execute_result"
    }
   ],
   "source": [
    "\n",
    "GTDB_df=pd.read_csv(summary_file, sep='\\t')\n",
    "\n",
    "\n",
    "GTDB_df.head()"
   ]
  },
  {
   "cell_type": "markdown",
   "metadata": {},
   "source": [
    "Let's take a look at all of the columns this table has:"
   ]
  },
  {
   "cell_type": "code",
   "execution_count": 4,
   "metadata": {},
   "outputs": [
    {
     "data": {
      "text/plain": [
       "Index(['user_genome', 'classification', 'fastani_reference',\n",
       "       'fastani_reference_radius', 'fastani_taxonomy', 'fastani_ani',\n",
       "       'fastani_af', 'closest_placement_reference', 'closest_placement_radius',\n",
       "       'closest_placement_taxonomy', 'closest_placement_ani',\n",
       "       'closest_placement_af', 'pplacer_taxonomy', 'classification_method',\n",
       "       'note',\n",
       "       'other_related_references(genome_id,species_name,radius,ANI,AF)',\n",
       "       'msa_percent', 'translation_table', 'red_value', 'warnings'],\n",
       "      dtype='object')"
      ]
     },
     "execution_count": 4,
     "metadata": {},
     "output_type": "execute_result"
    }
   ],
   "source": [
    "GTDB_df.columns"
   ]
  },
  {
   "cell_type": "markdown",
   "metadata": {},
   "source": [
    "GTDB provides a lot of informaiton about both the final calssification as well as how it classified a genome. While most of these columns are interesting they are not really all that important for a majority of the gneomes that are run through GTDB\n",
    "\n",
    "The important columns are:\n",
    "1. user_genome\n",
    "2. classification\n",
    "3. classification_method\n",
    "4. warnings\n",
    "\n",
    "These columns provide the genome (SAG) that was analyzed, what it is classified as, how it was classified and if there were any warnings that occured during the pipeline.\n",
    "\n",
    "Lets start by looking at how the SAGs were classified?"
   ]
  },
  {
   "cell_type": "code",
   "execution_count": 5,
   "metadata": {},
   "outputs": [
    {
     "data": {
      "text/plain": [
       "Counter({'taxonomic classification defined by topology and ANI': 152,\n",
       "         'ANI': 18})"
      ]
     },
     "execution_count": 5,
     "metadata": {},
     "output_type": "execute_result"
    }
   ],
   "source": [
    "from collections import Counter\n",
    "Counter(GTDB_df['classification_method'])"
   ]
  },
  {
   "cell_type": "markdown",
   "metadata": {},
   "source": [
    "Most of our SAGs were defined by a combination of both topology and ANI but some were only classified via ANI. This is just fine and we frequently see this when working with genomes that are not complete as is the case with SAG genomes.\n",
    "\n",
    "Lets check and see if there is anything that we should be concerned about"
   ]
  },
  {
   "cell_type": "code",
   "execution_count": 6,
   "metadata": {},
   "outputs": [
    {
     "data": {
      "text/plain": [
       "Counter({nan: 116,\n",
       "         'Genome not assigned to closest species as it falls outside its pre-defined ANI radius': 51,\n",
       "         'Genome domain questionable ( 14.2% Bacterial, 4.9% Archaeal)': 1,\n",
       "         'Genome domain questionable ( 11.7% Bacterial, 2.5% Archaeal)': 1,\n",
       "         'Genome domain questionable ( 10.8% Bacterial, 4.1% Archaeal)': 1})"
      ]
     },
     "execution_count": 6,
     "metadata": {},
     "output_type": "execute_result"
    }
   ],
   "source": [
    "Counter(GTDB_df['warnings'])"
   ]
  },
  {
   "cell_type": "markdown",
   "metadata": {},
   "source": [
    "There are a significant number of cells that were not assigned to a species but this is pretty common when working with SAG data. This is generally due either the fact that despite being a very large database GTDB is still missing representative genomes for many species in the ocean or because the incomplete nature of most SAG genomes makes it difficult to assign species.\n",
    "\n",
    "\n",
    "Lets take a closer look at the ones that have a questionable domain. This could be due to small genome size or contamination or something else so it is worth checking out in a bit more detail."
   ]
  },
  {
   "cell_type": "code",
   "execution_count": 7,
   "metadata": {},
   "outputs": [
    {
     "data": {
      "text/html": [
       "<div>\n",
       "<style scoped>\n",
       "    .dataframe tbody tr th:only-of-type {\n",
       "        vertical-align: middle;\n",
       "    }\n",
       "\n",
       "    .dataframe tbody tr th {\n",
       "        vertical-align: top;\n",
       "    }\n",
       "\n",
       "    .dataframe thead th {\n",
       "        text-align: right;\n",
       "    }\n",
       "</style>\n",
       "<table border=\"1\" class=\"dataframe\">\n",
       "  <thead>\n",
       "    <tr style=\"text-align: right;\">\n",
       "      <th></th>\n",
       "      <th>user_genome</th>\n",
       "      <th>classification</th>\n",
       "      <th>fastani_reference</th>\n",
       "      <th>fastani_reference_radius</th>\n",
       "      <th>fastani_taxonomy</th>\n",
       "      <th>fastani_ani</th>\n",
       "      <th>fastani_af</th>\n",
       "      <th>closest_placement_reference</th>\n",
       "      <th>closest_placement_radius</th>\n",
       "      <th>closest_placement_taxonomy</th>\n",
       "      <th>closest_placement_ani</th>\n",
       "      <th>closest_placement_af</th>\n",
       "      <th>pplacer_taxonomy</th>\n",
       "      <th>classification_method</th>\n",
       "      <th>note</th>\n",
       "      <th>other_related_references(genome_id,species_name,radius,ANI,AF)</th>\n",
       "      <th>msa_percent</th>\n",
       "      <th>translation_table</th>\n",
       "      <th>red_value</th>\n",
       "      <th>warnings</th>\n",
       "    </tr>\n",
       "  </thead>\n",
       "  <tbody>\n",
       "    <tr>\n",
       "      <th>49</th>\n",
       "      <td>AG-910-D21_contigs</td>\n",
       "      <td>d__Bacteria;p__Proteobacteria;c__Gammaproteoba...</td>\n",
       "      <td>GCA_902596665.1</td>\n",
       "      <td>95.0</td>\n",
       "      <td>d__Bacteria;p__Proteobacteria;c__Gammaproteoba...</td>\n",
       "      <td>96.02</td>\n",
       "      <td>0.92</td>\n",
       "      <td>NaN</td>\n",
       "      <td>NaN</td>\n",
       "      <td>NaN</td>\n",
       "      <td>NaN</td>\n",
       "      <td>NaN</td>\n",
       "      <td>d__Bacteria;p__Proteobacteria;c__Gammaproteoba...</td>\n",
       "      <td>ANI</td>\n",
       "      <td>topological placement and ANI have incongruent...</td>\n",
       "      <td>GCA_902596665.1, s__CACNYO01 sp902596665, 95.0...</td>\n",
       "      <td>13.96</td>\n",
       "      <td>11</td>\n",
       "      <td>NaN</td>\n",
       "      <td>Genome domain questionable ( 14.2% Bacterial, ...</td>\n",
       "    </tr>\n",
       "    <tr>\n",
       "      <th>71</th>\n",
       "      <td>AG-910-G08_contigs</td>\n",
       "      <td>d__Bacteria;p__Actinobacteriota;c__Acidimicrob...</td>\n",
       "      <td>GCA_902619825.1</td>\n",
       "      <td>95.0</td>\n",
       "      <td>d__Bacteria;p__Actinobacteriota;c__Acidimicrob...</td>\n",
       "      <td>97.06</td>\n",
       "      <td>0.95</td>\n",
       "      <td>GCA_902526825.1</td>\n",
       "      <td>95.0</td>\n",
       "      <td>d__Bacteria;p__Actinobacteriota;c__Acidimicrob...</td>\n",
       "      <td>93.28</td>\n",
       "      <td>0.62</td>\n",
       "      <td>d__Bacteria;p__Actinobacteriota;c__Acidimicrob...</td>\n",
       "      <td>ANI</td>\n",
       "      <td>topological placement and ANI have incongruent...</td>\n",
       "      <td>GCA_902587025.1, s__Actinomarina sp902587025, ...</td>\n",
       "      <td>11.40</td>\n",
       "      <td>11</td>\n",
       "      <td>NaN</td>\n",
       "      <td>Genome domain questionable ( 11.7% Bacterial, ...</td>\n",
       "    </tr>\n",
       "    <tr>\n",
       "      <th>85</th>\n",
       "      <td>AG-910-I14_contigs</td>\n",
       "      <td>d__Bacteria;p__Bacteroidota;c__Bacteroidia;o__...</td>\n",
       "      <td>GCA_002702875.1</td>\n",
       "      <td>95.0</td>\n",
       "      <td>d__Bacteria;p__Bacteroidota;c__Bacteroidia;o__...</td>\n",
       "      <td>96.76</td>\n",
       "      <td>0.70</td>\n",
       "      <td>GCA_002702875.1</td>\n",
       "      <td>95.0</td>\n",
       "      <td>d__Bacteria;p__Bacteroidota;c__Bacteroidia;o__...</td>\n",
       "      <td>96.76</td>\n",
       "      <td>0.70</td>\n",
       "      <td>d__Bacteria;p__Bacteroidota;c__Bacteroidia;o__...</td>\n",
       "      <td>taxonomic classification defined by topology a...</td>\n",
       "      <td>topological placement and ANI have congruent s...</td>\n",
       "      <td>GCA_902514625.1, s__TMED220 sp902514625, 95.0,...</td>\n",
       "      <td>10.11</td>\n",
       "      <td>11</td>\n",
       "      <td>NaN</td>\n",
       "      <td>Genome domain questionable ( 10.8% Bacterial, ...</td>\n",
       "    </tr>\n",
       "  </tbody>\n",
       "</table>\n",
       "</div>"
      ],
      "text/plain": [
       "           user_genome                                     classification  \\\n",
       "49  AG-910-D21_contigs  d__Bacteria;p__Proteobacteria;c__Gammaproteoba...   \n",
       "71  AG-910-G08_contigs  d__Bacteria;p__Actinobacteriota;c__Acidimicrob...   \n",
       "85  AG-910-I14_contigs  d__Bacteria;p__Bacteroidota;c__Bacteroidia;o__...   \n",
       "\n",
       "   fastani_reference  fastani_reference_radius  \\\n",
       "49   GCA_902596665.1                      95.0   \n",
       "71   GCA_902619825.1                      95.0   \n",
       "85   GCA_002702875.1                      95.0   \n",
       "\n",
       "                                     fastani_taxonomy  fastani_ani  \\\n",
       "49  d__Bacteria;p__Proteobacteria;c__Gammaproteoba...        96.02   \n",
       "71  d__Bacteria;p__Actinobacteriota;c__Acidimicrob...        97.06   \n",
       "85  d__Bacteria;p__Bacteroidota;c__Bacteroidia;o__...        96.76   \n",
       "\n",
       "    fastani_af closest_placement_reference  closest_placement_radius  \\\n",
       "49        0.92                         NaN                       NaN   \n",
       "71        0.95             GCA_902526825.1                      95.0   \n",
       "85        0.70             GCA_002702875.1                      95.0   \n",
       "\n",
       "                           closest_placement_taxonomy  closest_placement_ani  \\\n",
       "49                                                NaN                    NaN   \n",
       "71  d__Bacteria;p__Actinobacteriota;c__Acidimicrob...                  93.28   \n",
       "85  d__Bacteria;p__Bacteroidota;c__Bacteroidia;o__...                  96.76   \n",
       "\n",
       "    closest_placement_af                                   pplacer_taxonomy  \\\n",
       "49                   NaN  d__Bacteria;p__Proteobacteria;c__Gammaproteoba...   \n",
       "71                  0.62  d__Bacteria;p__Actinobacteriota;c__Acidimicrob...   \n",
       "85                  0.70  d__Bacteria;p__Bacteroidota;c__Bacteroidia;o__...   \n",
       "\n",
       "                                classification_method  \\\n",
       "49                                                ANI   \n",
       "71                                                ANI   \n",
       "85  taxonomic classification defined by topology a...   \n",
       "\n",
       "                                                 note  \\\n",
       "49  topological placement and ANI have incongruent...   \n",
       "71  topological placement and ANI have incongruent...   \n",
       "85  topological placement and ANI have congruent s...   \n",
       "\n",
       "   other_related_references(genome_id,species_name,radius,ANI,AF)  \\\n",
       "49  GCA_902596665.1, s__CACNYO01 sp902596665, 95.0...               \n",
       "71  GCA_902587025.1, s__Actinomarina sp902587025, ...               \n",
       "85  GCA_902514625.1, s__TMED220 sp902514625, 95.0,...               \n",
       "\n",
       "    msa_percent  translation_table  red_value  \\\n",
       "49        13.96                 11        NaN   \n",
       "71        11.40                 11        NaN   \n",
       "85        10.11                 11        NaN   \n",
       "\n",
       "                                             warnings  \n",
       "49  Genome domain questionable ( 14.2% Bacterial, ...  \n",
       "71  Genome domain questionable ( 11.7% Bacterial, ...  \n",
       "85  Genome domain questionable ( 10.8% Bacterial, ...  "
      ]
     },
     "execution_count": 7,
     "metadata": {},
     "output_type": "execute_result"
    }
   ],
   "source": [
    "check_df=GTDB_df[GTDB_df.warnings.str.contains('Genome domain questionable', na=False)]\n",
    "check_df\n"
   ]
  },
  {
   "cell_type": "markdown",
   "metadata": {},
   "source": [
    "The fastani_ani scores as the fastani_af are both relativelly high for all of the cells so I am not going to worry about them. It could be that these cells just have small genomes so a small piece segment results in the appearance of a significant allignment to archaea. I think that these cells are probably fine but I will make a note of it for later.\n",
    "\n",
    "\n",
    "<br>\n",
    "\n",
    "Let's take a peek at the structure of GTDBtk classifications:"
   ]
  },
  {
   "cell_type": "code",
   "execution_count": 8,
   "metadata": {},
   "outputs": [
    {
     "data": {
      "text/plain": [
       "[('d__Bacteria;p__Proteobacteria;c__Alphaproteobacteria;o__Pelagibacterales;f__Pelagibacteraceae;g__Pelagibacter;s__',\n",
       "  16),\n",
       " ('d__Bacteria;p__Proteobacteria;c__Alphaproteobacteria;o__Pelagibacterales;f__Pelagibacteraceae;g__Pelagibacter_A;s__',\n",
       "  11),\n",
       " ('d__Bacteria;p__Proteobacteria;c__Gammaproteobacteria;o__SAR86;f__TMED112;g__TMED112;s__TMED112 sp003280455',\n",
       "  4),\n",
       " ('d__Bacteria;p__Proteobacteria;c__Alphaproteobacteria;o__Pelagibacterales;f__Pelagibacteraceae;g__Pelagibacter;s__Pelagibacter sp003209915',\n",
       "  4),\n",
       " ('d__Bacteria;p__Bacteroidota;c__Bacteroidia;o__Flavobacteriales;f__Flavobacteriaceae;g__GCA-2862715;s__GCA-2862715 sp002862715',\n",
       "  3),\n",
       " ('d__Bacteria;p__Proteobacteria;c__Alphaproteobacteria;o__HIMB59;f__GCA-002718135;g__AG-337-I02;s__',\n",
       "  3),\n",
       " ('d__Bacteria;p__Cyanobacteria;c__Cyanobacteriia;o__PCC-6307;f__Cyanobiaceae;g__Prochlorococcus_A;s__',\n",
       "  3),\n",
       " ('d__Bacteria;p__Actinobacteriota;c__Acidimicrobiia;o__Actinomarinales;f__Actinomarinaceae;g__Actinomarina;s__Actinomarina sp003213165',\n",
       "  2),\n",
       " ('d__Bacteria;p__Proteobacteria;c__Alphaproteobacteria;o__HIMB59;f__GCA-002718135;g__AG-337-I02;s__AG-337-I02 sp902570155',\n",
       "  2),\n",
       " ('d__Bacteria;p__Proteobacteria;c__Gammaproteobacteria;o__SAR86;f__SAR86;g__GCA-2707915;s__GCA-2707915 sp902620785',\n",
       "  2)]"
      ]
     },
     "execution_count": 8,
     "metadata": {},
     "output_type": "execute_result"
    }
   ],
   "source": [
    "Counter(GTDB_df['classification']).most_common()[:10]"
   ]
  },
  {
   "cell_type": "markdown",
   "metadata": {},
   "source": [
    "Note this plate only contained bacteria. We know this because if there are Archaea in the sample GTDB will produce a seperate file for genomes that are classified as Archaeal. If you have archaea in your samples as well the code below will combine the two outputs into a single table to allow for easier viewing.\n"
   ]
  },
  {
   "cell_type": "raw",
   "metadata": {
    "jupyter": {
     "outputs_hidden": true
    },
    "tags": []
   },
   "source": [
    "# load archaeal table\n",
    "arc_df=pd.read_csv('AG-910_gtdb_1.5_classify_wf_out2/gtdbtk.ar122.summary.tsv', sep='\\t')\n",
    "\n",
    "#load bacterial table\n",
    "bac_df=pd.read_csv('AG-910_gtdb_1.5_classify_wf_out2/gtdbtk.bac120.summary.tsv', sep='\\t')\n",
    "\n",
    "# stack the tables\n",
    "\n",
    "GTDB_df=pd.concat([arc_df, bac_df])\n"
   ]
  },
  {
   "cell_type": "markdown",
   "metadata": {},
   "source": [
    "The GTDB output table has a lot of extra columns that while very useful are not necssarily the most relevant to our next steps and what we are interested in. Lets go ahead and copy just the columns that we are interested in and proceed with those columns"
   ]
  },
  {
   "cell_type": "code",
   "execution_count": 9,
   "metadata": {},
   "outputs": [
    {
     "ename": "PermissionError",
     "evalue": "[Errno 13] Permission denied: './tbls/AG-910_GTDB_classifications.csv'",
     "output_type": "error",
     "traceback": [
      "\u001b[0;31m---------------------------------------------------------------------------\u001b[0m",
      "\u001b[0;31mPermissionError\u001b[0m                           Traceback (most recent call last)",
      "\u001b[0;32m/tmp/ipykernel_1735233/3950709341.py\u001b[0m in \u001b[0;36m<module>\u001b[0;34m\u001b[0m\n\u001b[1;32m     17\u001b[0m \u001b[0mclass_df\u001b[0m\u001b[0;34m.\u001b[0m\u001b[0mreset_index\u001b[0m\u001b[0;34m(\u001b[0m\u001b[0minplace\u001b[0m\u001b[0;34m=\u001b[0m\u001b[0;32mTrue\u001b[0m\u001b[0;34m)\u001b[0m\u001b[0;34m\u001b[0m\u001b[0;34m\u001b[0m\u001b[0m\n\u001b[1;32m     18\u001b[0m \u001b[0mclass_df\u001b[0m\u001b[0;34m.\u001b[0m\u001b[0mdrop\u001b[0m\u001b[0;34m(\u001b[0m\u001b[0mcolumns\u001b[0m\u001b[0;34m=\u001b[0m\u001b[0;34m'index'\u001b[0m\u001b[0;34m,\u001b[0m \u001b[0minplace\u001b[0m\u001b[0;34m=\u001b[0m\u001b[0;32mTrue\u001b[0m\u001b[0;34m)\u001b[0m\u001b[0;34m\u001b[0m\u001b[0;34m\u001b[0m\u001b[0m\n\u001b[0;32m---> 19\u001b[0;31m \u001b[0mclass_df\u001b[0m\u001b[0;34m.\u001b[0m\u001b[0mto_csv\u001b[0m\u001b[0;34m(\u001b[0m\u001b[0mos\u001b[0m\u001b[0;34m.\u001b[0m\u001b[0mpath\u001b[0m\u001b[0;34m.\u001b[0m\u001b[0mjoin\u001b[0m\u001b[0;34m(\u001b[0m\u001b[0moutdir\u001b[0m\u001b[0;34m,\u001b[0m\u001b[0;34m'AG-910_GTDB_classifications.csv'\u001b[0m\u001b[0;34m)\u001b[0m\u001b[0;34m)\u001b[0m\u001b[0;34m\u001b[0m\u001b[0;34m\u001b[0m\u001b[0m\n\u001b[0m\u001b[1;32m     20\u001b[0m \u001b[0;34m\u001b[0m\u001b[0m\n\u001b[1;32m     21\u001b[0m \u001b[0;31m#show the dataframe\u001b[0m\u001b[0;34m\u001b[0m\u001b[0;34m\u001b[0m\u001b[0m\n",
      "\u001b[0;32m/opt/tljh/user/envs/biopy/lib/python3.10/site-packages/pandas/core/generic.py\u001b[0m in \u001b[0;36mto_csv\u001b[0;34m(self, path_or_buf, sep, na_rep, float_format, columns, header, index, index_label, mode, encoding, compression, quoting, quotechar, line_terminator, chunksize, date_format, doublequote, escapechar, decimal, errors, storage_options)\u001b[0m\n\u001b[1;32m   3464\u001b[0m         )\n\u001b[1;32m   3465\u001b[0m \u001b[0;34m\u001b[0m\u001b[0m\n\u001b[0;32m-> 3466\u001b[0;31m         return DataFrameRenderer(formatter).to_csv(\n\u001b[0m\u001b[1;32m   3467\u001b[0m             \u001b[0mpath_or_buf\u001b[0m\u001b[0;34m,\u001b[0m\u001b[0;34m\u001b[0m\u001b[0;34m\u001b[0m\u001b[0m\n\u001b[1;32m   3468\u001b[0m             \u001b[0mline_terminator\u001b[0m\u001b[0;34m=\u001b[0m\u001b[0mline_terminator\u001b[0m\u001b[0;34m,\u001b[0m\u001b[0;34m\u001b[0m\u001b[0;34m\u001b[0m\u001b[0m\n",
      "\u001b[0;32m/opt/tljh/user/envs/biopy/lib/python3.10/site-packages/pandas/io/formats/format.py\u001b[0m in \u001b[0;36mto_csv\u001b[0;34m(self, path_or_buf, encoding, sep, columns, index_label, mode, compression, quoting, quotechar, line_terminator, chunksize, date_format, doublequote, escapechar, errors, storage_options)\u001b[0m\n\u001b[1;32m   1103\u001b[0m             \u001b[0mformatter\u001b[0m\u001b[0;34m=\u001b[0m\u001b[0mself\u001b[0m\u001b[0;34m.\u001b[0m\u001b[0mfmt\u001b[0m\u001b[0;34m,\u001b[0m\u001b[0;34m\u001b[0m\u001b[0;34m\u001b[0m\u001b[0m\n\u001b[1;32m   1104\u001b[0m         )\n\u001b[0;32m-> 1105\u001b[0;31m         \u001b[0mcsv_formatter\u001b[0m\u001b[0;34m.\u001b[0m\u001b[0msave\u001b[0m\u001b[0;34m(\u001b[0m\u001b[0;34m)\u001b[0m\u001b[0;34m\u001b[0m\u001b[0;34m\u001b[0m\u001b[0m\n\u001b[0m\u001b[1;32m   1106\u001b[0m \u001b[0;34m\u001b[0m\u001b[0m\n\u001b[1;32m   1107\u001b[0m         \u001b[0;32mif\u001b[0m \u001b[0mcreated_buffer\u001b[0m\u001b[0;34m:\u001b[0m\u001b[0;34m\u001b[0m\u001b[0;34m\u001b[0m\u001b[0m\n",
      "\u001b[0;32m/opt/tljh/user/envs/biopy/lib/python3.10/site-packages/pandas/io/formats/csvs.py\u001b[0m in \u001b[0;36msave\u001b[0;34m(self)\u001b[0m\n\u001b[1;32m    235\u001b[0m         \"\"\"\n\u001b[1;32m    236\u001b[0m         \u001b[0;31m# apply compression and byte/text conversion\u001b[0m\u001b[0;34m\u001b[0m\u001b[0;34m\u001b[0m\u001b[0m\n\u001b[0;32m--> 237\u001b[0;31m         with get_handle(\n\u001b[0m\u001b[1;32m    238\u001b[0m             \u001b[0mself\u001b[0m\u001b[0;34m.\u001b[0m\u001b[0mfilepath_or_buffer\u001b[0m\u001b[0;34m,\u001b[0m\u001b[0;34m\u001b[0m\u001b[0;34m\u001b[0m\u001b[0m\n\u001b[1;32m    239\u001b[0m             \u001b[0mself\u001b[0m\u001b[0;34m.\u001b[0m\u001b[0mmode\u001b[0m\u001b[0;34m,\u001b[0m\u001b[0;34m\u001b[0m\u001b[0;34m\u001b[0m\u001b[0m\n",
      "\u001b[0;32m/opt/tljh/user/envs/biopy/lib/python3.10/site-packages/pandas/io/common.py\u001b[0m in \u001b[0;36mget_handle\u001b[0;34m(path_or_buf, mode, encoding, compression, memory_map, is_text, errors, storage_options)\u001b[0m\n\u001b[1;32m    700\u001b[0m         \u001b[0;32mif\u001b[0m \u001b[0mioargs\u001b[0m\u001b[0;34m.\u001b[0m\u001b[0mencoding\u001b[0m \u001b[0;32mand\u001b[0m \u001b[0;34m\"b\"\u001b[0m \u001b[0;32mnot\u001b[0m \u001b[0;32min\u001b[0m \u001b[0mioargs\u001b[0m\u001b[0;34m.\u001b[0m\u001b[0mmode\u001b[0m\u001b[0;34m:\u001b[0m\u001b[0;34m\u001b[0m\u001b[0;34m\u001b[0m\u001b[0m\n\u001b[1;32m    701\u001b[0m             \u001b[0;31m# Encoding\u001b[0m\u001b[0;34m\u001b[0m\u001b[0;34m\u001b[0m\u001b[0m\n\u001b[0;32m--> 702\u001b[0;31m             handle = open(\n\u001b[0m\u001b[1;32m    703\u001b[0m                 \u001b[0mhandle\u001b[0m\u001b[0;34m,\u001b[0m\u001b[0;34m\u001b[0m\u001b[0;34m\u001b[0m\u001b[0m\n\u001b[1;32m    704\u001b[0m                 \u001b[0mioargs\u001b[0m\u001b[0;34m.\u001b[0m\u001b[0mmode\u001b[0m\u001b[0;34m,\u001b[0m\u001b[0;34m\u001b[0m\u001b[0;34m\u001b[0m\u001b[0m\n",
      "\u001b[0;31mPermissionError\u001b[0m: [Errno 13] Permission denied: './tbls/AG-910_GTDB_classifications.csv'"
     ]
    }
   ],
   "source": [
    "# Notice that the 'user_genome' column includes the _contigs suffix.  \n",
    "# I want to have a column that just has the SAG ID for each genome. \n",
    "# I'll do that by taking the first 10 characters of each string in the user_genome column.\n",
    "GTDB_df['SAG']=GTDB_df['user_genome'].str[:10]\n",
    "\n",
    "# define the columns that we are interested in\n",
    "cols=['SAG', 'classification', 'classification_method', 'warnings']\n",
    "\n",
    "# create a new dataframe with just the columns from GTDB of interest\n",
    "class_df=GTDB_df[cols].copy()\n",
    "\n",
    "# split the classification into tax level columns and rename\n",
    "class_df[['domain', 'phyla', 'class', 'order', 'family', 'genus', 'species']]=class_df.classification.str.split(';', expand=True)\n",
    "class_df=class_df.rename(columns = {'classification':'GTDBtk_classification'})\n",
    "\n",
    "#reset the index and save just the calssifications\n",
    "class_df.reset_index(inplace=True)\n",
    "class_df.drop(columns='index', inplace=True)\n",
    "class_df.to_csv(os.path.join(outdir,'AG-910_GTDB_classifications.csv'))\n",
    "\n",
    "#show the dataframe\n",
    "class_df\n",
    "class_df.to_csv(\"./AG-910_GTDB_classifications.csv\")"
   ]
  },
  {
   "cell_type": "markdown",
   "metadata": {},
   "source": [
    "### Now lets load the SAG metadata and combine it with the GTDB results for further examination\n",
    "\n",
    "So that we can..."
   ]
  },
  {
   "cell_type": "code",
   "execution_count": 10,
   "metadata": {},
   "outputs": [
    {
     "data": {
      "text/html": [
       "<div>\n",
       "<style scoped>\n",
       "    .dataframe tbody tr th:only-of-type {\n",
       "        vertical-align: middle;\n",
       "    }\n",
       "\n",
       "    .dataframe tbody tr th {\n",
       "        vertical-align: top;\n",
       "    }\n",
       "\n",
       "    .dataframe thead th {\n",
       "        text-align: right;\n",
       "    }\n",
       "</style>\n",
       "<table border=\"1\" class=\"dataframe\">\n",
       "  <thead>\n",
       "    <tr style=\"text-align: right;\">\n",
       "      <th></th>\n",
       "      <th>SAG</th>\n",
       "      <th>Sample</th>\n",
       "      <th>Sample feature</th>\n",
       "      <th>FACS mode</th>\n",
       "      <th>Estimated cell diameter (μm)</th>\n",
       "      <th>WGA-X Cp (h)</th>\n",
       "      <th>Raw read count</th>\n",
       "      <th>Assembly size (Mbp)</th>\n",
       "      <th>Final contigs count</th>\n",
       "      <th>Max contig length</th>\n",
       "      <th>...</th>\n",
       "      <th>classification_method</th>\n",
       "      <th>warnings</th>\n",
       "      <th>domain</th>\n",
       "      <th>phyla</th>\n",
       "      <th>class</th>\n",
       "      <th>order</th>\n",
       "      <th>family</th>\n",
       "      <th>genus</th>\n",
       "      <th>species</th>\n",
       "      <th>cells</th>\n",
       "    </tr>\n",
       "  </thead>\n",
       "  <tbody>\n",
       "    <tr>\n",
       "      <th>0</th>\n",
       "      <td>AG-910-A01</td>\n",
       "      <td>SWC-09</td>\n",
       "      <td>BATS Mixed Layer ~20% narB</td>\n",
       "      <td>Syto9-Prok</td>\n",
       "      <td>0.18</td>\n",
       "      <td>3.239536</td>\n",
       "      <td>61589</td>\n",
       "      <td>72175</td>\n",
       "      <td>14</td>\n",
       "      <td>20059</td>\n",
       "      <td>...</td>\n",
       "      <td>NaN</td>\n",
       "      <td>NaN</td>\n",
       "      <td>NaN</td>\n",
       "      <td>NaN</td>\n",
       "      <td>NaN</td>\n",
       "      <td>NaN</td>\n",
       "      <td>NaN</td>\n",
       "      <td>NaN</td>\n",
       "      <td>NaN</td>\n",
       "      <td>1</td>\n",
       "    </tr>\n",
       "    <tr>\n",
       "      <th>1</th>\n",
       "      <td>AG-910-A02</td>\n",
       "      <td>SWC-09</td>\n",
       "      <td>BATS Mixed Layer ~20% narB</td>\n",
       "      <td>Syto9-Prok</td>\n",
       "      <td>0.24</td>\n",
       "      <td>1.769893</td>\n",
       "      <td>2596242</td>\n",
       "      <td>502406</td>\n",
       "      <td>26</td>\n",
       "      <td>120161</td>\n",
       "      <td>...</td>\n",
       "      <td>taxonomic classification defined by topology a...</td>\n",
       "      <td>NaN</td>\n",
       "      <td>d__Bacteria</td>\n",
       "      <td>p__Proteobacteria</td>\n",
       "      <td>c__Gammaproteobacteria</td>\n",
       "      <td>o__SAR86</td>\n",
       "      <td>f__TMED112</td>\n",
       "      <td>g__TMED112</td>\n",
       "      <td>s__TMED112 sp003280455</td>\n",
       "      <td>1</td>\n",
       "    </tr>\n",
       "    <tr>\n",
       "      <th>2</th>\n",
       "      <td>AG-910-A03</td>\n",
       "      <td>SWC-09</td>\n",
       "      <td>BATS Mixed Layer ~20% narB</td>\n",
       "      <td>Syto9-Prok</td>\n",
       "      <td>0.29</td>\n",
       "      <td>2.200094</td>\n",
       "      <td>2514079</td>\n",
       "      <td>240410</td>\n",
       "      <td>32</td>\n",
       "      <td>24968</td>\n",
       "      <td>...</td>\n",
       "      <td>NaN</td>\n",
       "      <td>NaN</td>\n",
       "      <td>NaN</td>\n",
       "      <td>NaN</td>\n",
       "      <td>NaN</td>\n",
       "      <td>NaN</td>\n",
       "      <td>NaN</td>\n",
       "      <td>NaN</td>\n",
       "      <td>NaN</td>\n",
       "      <td>1</td>\n",
       "    </tr>\n",
       "    <tr>\n",
       "      <th>3</th>\n",
       "      <td>AG-910-A04</td>\n",
       "      <td>SWC-09</td>\n",
       "      <td>BATS Mixed Layer ~20% narB</td>\n",
       "      <td>Syto9-Prok</td>\n",
       "      <td>0.23</td>\n",
       "      <td>1.959266</td>\n",
       "      <td>2648866</td>\n",
       "      <td>473338</td>\n",
       "      <td>24</td>\n",
       "      <td>111384</td>\n",
       "      <td>...</td>\n",
       "      <td>taxonomic classification defined by topology a...</td>\n",
       "      <td>NaN</td>\n",
       "      <td>d__Bacteria</td>\n",
       "      <td>p__Actinobacteriota</td>\n",
       "      <td>c__Acidimicrobiia</td>\n",
       "      <td>o__Actinomarinales</td>\n",
       "      <td>f__Actinomarinaceae</td>\n",
       "      <td>g__Actinomarina</td>\n",
       "      <td>s__Actinomarina sp902615855</td>\n",
       "      <td>1</td>\n",
       "    </tr>\n",
       "    <tr>\n",
       "      <th>4</th>\n",
       "      <td>AG-910-A06</td>\n",
       "      <td>SWC-09</td>\n",
       "      <td>BATS Mixed Layer ~20% narB</td>\n",
       "      <td>Syto9-Prok</td>\n",
       "      <td>0.28</td>\n",
       "      <td>1.980436</td>\n",
       "      <td>2652499</td>\n",
       "      <td>1010309</td>\n",
       "      <td>40</td>\n",
       "      <td>179684</td>\n",
       "      <td>...</td>\n",
       "      <td>taxonomic classification defined by topology a...</td>\n",
       "      <td>NaN</td>\n",
       "      <td>d__Bacteria</td>\n",
       "      <td>p__Proteobacteria</td>\n",
       "      <td>c__Alphaproteobacteria</td>\n",
       "      <td>o__Pelagibacterales</td>\n",
       "      <td>f__Pelagibacteraceae</td>\n",
       "      <td>g__Pelagibacter</td>\n",
       "      <td>s__Pelagibacter sp902567045</td>\n",
       "      <td>1</td>\n",
       "    </tr>\n",
       "  </tbody>\n",
       "</table>\n",
       "<p>5 rows × 62 columns</p>\n",
       "</div>"
      ],
      "text/plain": [
       "          SAG  Sample              Sample feature   FACS mode  \\\n",
       "0  AG-910-A01  SWC-09  BATS Mixed Layer ~20% narB  Syto9-Prok   \n",
       "1  AG-910-A02  SWC-09  BATS Mixed Layer ~20% narB  Syto9-Prok   \n",
       "2  AG-910-A03  SWC-09  BATS Mixed Layer ~20% narB  Syto9-Prok   \n",
       "3  AG-910-A04  SWC-09  BATS Mixed Layer ~20% narB  Syto9-Prok   \n",
       "4  AG-910-A06  SWC-09  BATS Mixed Layer ~20% narB  Syto9-Prok   \n",
       "\n",
       "   Estimated cell diameter (μm)  WGA-X Cp (h)  Raw read count  \\\n",
       "0                          0.18      3.239536           61589   \n",
       "1                          0.24      1.769893         2596242   \n",
       "2                          0.29      2.200094         2514079   \n",
       "3                          0.23      1.959266         2648866   \n",
       "4                          0.28      1.980436         2652499   \n",
       "\n",
       "   Assembly size (Mbp)  Final contigs count  Max contig length  ...  \\\n",
       "0                72175                   14              20059  ...   \n",
       "1               502406                   26             120161  ...   \n",
       "2               240410                   32              24968  ...   \n",
       "3               473338                   24             111384  ...   \n",
       "4              1010309                   40             179684  ...   \n",
       "\n",
       "                               classification_method  warnings       domain  \\\n",
       "0                                                NaN       NaN          NaN   \n",
       "1  taxonomic classification defined by topology a...       NaN  d__Bacteria   \n",
       "2                                                NaN       NaN          NaN   \n",
       "3  taxonomic classification defined by topology a...       NaN  d__Bacteria   \n",
       "4  taxonomic classification defined by topology a...       NaN  d__Bacteria   \n",
       "\n",
       "                 phyla                   class                order  \\\n",
       "0                  NaN                     NaN                  NaN   \n",
       "1    p__Proteobacteria  c__Gammaproteobacteria             o__SAR86   \n",
       "2                  NaN                     NaN                  NaN   \n",
       "3  p__Actinobacteriota       c__Acidimicrobiia   o__Actinomarinales   \n",
       "4    p__Proteobacteria  c__Alphaproteobacteria  o__Pelagibacterales   \n",
       "\n",
       "                 family            genus                      species  cells  \n",
       "0                   NaN              NaN                          NaN      1  \n",
       "1            f__TMED112       g__TMED112       s__TMED112 sp003280455      1  \n",
       "2                   NaN              NaN                          NaN      1  \n",
       "3   f__Actinomarinaceae  g__Actinomarina  s__Actinomarina sp902615855      1  \n",
       "4  f__Pelagibacteraceae  g__Pelagibacter  s__Pelagibacter sp902567045      1  \n",
       "\n",
       "[5 rows x 62 columns]"
      ]
     },
     "execution_count": 10,
     "metadata": {},
     "output_type": "execute_result"
    }
   ],
   "source": [
    "\n",
    "# load the QC'd SAG metadata\n",
    "SAG_data=pd.read_csv('/mnt/storage/data/sag_deliverables/AG-910_gorg-tropics_CelltableS2.csv')\n",
    "SAG_data=SAG_data.rename(columns={'Sample_ID':'SAG'})\n",
    "\n",
    "# merge the SAG metadata with the GTDB data \n",
    "# note that the outer merge is important to ensure that we keep cells that were not classified.\n",
    "master_df=SAG_data.merge(class_df, on='SAG', how='outer')\n",
    "master_df['cells']=1\n",
    "master_df.head()"
   ]
  },
  {
   "cell_type": "code",
   "execution_count": 11,
   "metadata": {},
   "outputs": [
    {
     "data": {
      "text/plain": [
       "Index(['SAG', 'Sample', 'Sample feature', 'FACS mode',\n",
       "       'Estimated cell diameter (μm)', 'WGA-X Cp (h)', 'Raw read count',\n",
       "       'Assembly size (Mbp)', 'Final contigs count', 'Max contig length',\n",
       "       'GC content (%)', 'Genome completeness (%)',\n",
       "       'Estimated genome size (Mbp)', 'SSU contig',\n",
       "       'SSU classification CREST/SILVA', 'Screened 16S Crest/SILVA', 'Lineage',\n",
       "       'Phylum', 'PUFA', 'acyl_amino_acids', 'arylpolyene', 'bacteriocin',\n",
       "       'bacteriocin.nrps', 'bacteriocin.terpene', 'ectoine', 'hserlactone',\n",
       "       'ladderane', 'lantipeptide', 'lantipeptide.nrps', 'lassopeptide',\n",
       "       'microcin', 'nrps', 'nucleoside', 'other', 'otherks',\n",
       "       'otherks.butyrolactone.nrps', 'phosphonate',\n",
       "       'phosphonate.t3pks.terpene', 'phosphonate.terpene', 'resorcinol',\n",
       "       'siderophore', 't1pks', 't1pks.PUFA', 't1pks.PUFA.otherks',\n",
       "       't1pks.nrps', 't1pks.otherks', 't3pks', 't3pks.terpene', 'terpene',\n",
       "       'transatpks', 'plate', 'GTDBtk_classification', 'classification_method',\n",
       "       'warnings', 'domain', 'phyla', 'class', 'order', 'family', 'genus',\n",
       "       'species', 'cells'],\n",
       "      dtype='object')"
      ]
     },
     "execution_count": 11,
     "metadata": {},
     "output_type": "execute_result"
    }
   ],
   "source": [
    "master_df.columns"
   ]
  },
  {
   "cell_type": "markdown",
   "metadata": {},
   "source": [
    "### Now lets examine how many SAGs were classified and the percent of SAGs that were classified to different tax levels"
   ]
  },
  {
   "cell_type": "code",
   "execution_count": 12,
   "metadata": {},
   "outputs": [
    {
     "data": {
      "image/png": "[encoded data removed]",
      "text/plain": [
       "<Figure size 432x288 with 1 Axes>"
      ]
     },
     "metadata": {
      "needs_background": "light"
     },
     "output_type": "display_data"
    }
   ],
   "source": [
    "\n",
    "\n",
    "# for each tax level create a variable with the number of SAGs that were classified to at least that level\n",
    "dsags=len(class_df[class_df['domain']!='d__'])\n",
    "psags=len(class_df[class_df['phyla']!='p__'])\n",
    "csags=len(class_df[class_df['class']!='c__'])\n",
    "osags=len(class_df[class_df['order']!='o__'])\n",
    "fsags=len(class_df[class_df['family']!='f__'])\n",
    "gsags=len(class_df[class_df['genus']!='g__'])\n",
    "ssags=len(class_df[class_df['species']!='s__'])\n",
    "\n",
    "# Calculate the total nubmer of SAGs submitted to the analysis.\n",
    "# note that for the total number of SAGs we are using the master_df that merged the GTDB results with the assembly stats\n",
    "# this is because GTDB will omit SAGs that are unable to be classified\n",
    "tsags=len(master_df['domain'])\n",
    "\n",
    "# create a dictionary of the taxonomic levels and the value associated with it and thenconvert to a dataframe.\n",
    "d={'tax_level': ['all_SAGs', 'domain', 'phyla', 'class', 'order', 'family', 'genus','species'], 'number of SAGs classified':\n",
    "   [tsags, dsags, psags, csags, osags, fsags, gsags, ssags]}\n",
    "GTDB_data_df=pd.DataFrame(data=d)\n",
    "\n",
    "\n",
    "# create a plot showing how many cells are classified at each taxonomic level \n",
    "GTDB_data_df.plot(kind='bar', x='tax_level', y='number of SAGs classified')\n",
    "plt.xlabel('Taxonomic classification')\n",
    "plt.ylabel('number of SAGs')\n",
    "plt.title('Assignment of SAGs at different taxonomic levels with GTDB')\n",
    "\n",
    "plt.tight_layout()\n",
    "plt.savefig(os.path.join(figdir,\"GTDB_taxonomic_levels.pdf\"))\n"
   ]
  },
  {
   "cell_type": "code",
   "execution_count": 13,
   "metadata": {},
   "outputs": [
    {
     "data": {
      "image/png": "[encoded data removed]",
      "text/plain": [
       "<Figure size 432x288 with 1 Axes>"
      ]
     },
     "metadata": {
      "needs_background": "light"
     },
     "output_type": "display_data"
    }
   ],
   "source": [
    "# alternative approach:\n",
    "\n",
    "class_count = {}\n",
    "\n",
    "class_count['total_sags'] = len(master_df)\n",
    "\n",
    "for level in ['domain','phyla','class','order','family','genus','species']:\n",
    "    # it's a true assignment if there's text beyond 'x__' which is a three-character string\n",
    "    class_count[level] = len([i for i in class_df[level] if len(i) > 3])\n",
    "    \n",
    "class_count_df = pd.DataFrame(data = {'tax_level':class_count.keys(), 'sag_count':class_count.values()})\n",
    "\n",
    "class_count_df.plot(kind='bar', x='tax_level', y='sag_count')\n",
    "plt.xlabel('Taxonomic classification')\n",
    "plt.ylabel('number of SAGs')\n",
    "plt.title('Assignment of SAGs at different taxonomic levels with GTDB')\n",
    "\n",
    "plt.tight_layout()\n",
    "plt.savefig(os.path.join(figdir,'GTDB_taxonomic_levels_counter_method.pdf'))"
   ]
  },
  {
   "cell_type": "code",
   "execution_count": 14,
   "metadata": {},
   "outputs": [
    {
     "data": {
      "image/png": "[encoded data removed]",
      "text/plain": [
       "<Figure size 432x288 with 1 Axes>"
      ]
     },
     "metadata": {
      "needs_background": "light"
     },
     "output_type": "display_data"
    }
   ],
   "source": [
    "# add a column to the dataframe that is the percent of SAGs and replot.\n",
    "# use the tsags variable previously created to calculate the percent of SAGs that were classified\n",
    "GTDB_data_df['percent_classified']=GTDB_data_df['number of SAGs classified']/tsags*100\n",
    "\n",
    "\n",
    "# generate the plot\n",
    "GTDB_data_df.plot(kind='bar', x='tax_level', y='percent_classified')\n",
    "plt.xlabel('Taxonomic classification')\n",
    "plt.ylabel('percent of SAGs')\n",
    "plt.title('Percent of SAGs classified at different taxonomic levels with GTDB')\n",
    "\n",
    "plt.tight_layout()\n",
    "plt.savefig(os.path.join(figdir,\"GTDB_taxonomic_levels_percent.pdf\"))"
   ]
  },
  {
   "cell_type": "markdown",
   "metadata": {},
   "source": [
    "Interestingly all the SAGs that were classified (~75%) were classified to the genus level. There was a significant dropoff at the species level where only ~50% of SAGs were classified to the species level. "
   ]
  },
  {
   "cell_type": "markdown",
   "metadata": {
    "tags": []
   },
   "source": [
    "### Now lets compare the number of SAGs that were classified via 16S to the number that were classified using GTDB at each taxonomic level"
   ]
  },
  {
   "cell_type": "code",
   "execution_count": 15,
   "metadata": {},
   "outputs": [
    {
     "data": {
      "text/html": [
       "<div>\n",
       "<style scoped>\n",
       "    .dataframe tbody tr th:only-of-type {\n",
       "        vertical-align: middle;\n",
       "    }\n",
       "\n",
       "    .dataframe tbody tr th {\n",
       "        vertical-align: top;\n",
       "    }\n",
       "\n",
       "    .dataframe thead th {\n",
       "        text-align: right;\n",
       "    }\n",
       "</style>\n",
       "<table border=\"1\" class=\"dataframe\">\n",
       "  <thead>\n",
       "    <tr style=\"text-align: right;\">\n",
       "      <th></th>\n",
       "      <th>tax_level</th>\n",
       "      <th>sag_count</th>\n",
       "    </tr>\n",
       "  </thead>\n",
       "  <tbody>\n",
       "    <tr>\n",
       "      <th>0</th>\n",
       "      <td>total_sags</td>\n",
       "      <td>226</td>\n",
       "    </tr>\n",
       "    <tr>\n",
       "      <th>1</th>\n",
       "      <td>domain</td>\n",
       "      <td>67</td>\n",
       "    </tr>\n",
       "    <tr>\n",
       "      <th>2</th>\n",
       "      <td>phyla</td>\n",
       "      <td>67</td>\n",
       "    </tr>\n",
       "    <tr>\n",
       "      <th>3</th>\n",
       "      <td>class</td>\n",
       "      <td>67</td>\n",
       "    </tr>\n",
       "    <tr>\n",
       "      <th>4</th>\n",
       "      <td>order</td>\n",
       "      <td>67</td>\n",
       "    </tr>\n",
       "    <tr>\n",
       "      <th>5</th>\n",
       "      <td>family</td>\n",
       "      <td>59</td>\n",
       "    </tr>\n",
       "    <tr>\n",
       "      <th>6</th>\n",
       "      <td>genus</td>\n",
       "      <td>17</td>\n",
       "    </tr>\n",
       "    <tr>\n",
       "      <th>7</th>\n",
       "      <td>species</td>\n",
       "      <td>0</td>\n",
       "    </tr>\n",
       "  </tbody>\n",
       "</table>\n",
       "</div>"
      ],
      "text/plain": [
       "    tax_level  sag_count\n",
       "0  total_sags        226\n",
       "1      domain         67\n",
       "2       phyla         67\n",
       "3       class         67\n",
       "4       order         67\n",
       "5      family         59\n",
       "6       genus         17\n",
       "7     species          0"
      ]
     },
     "execution_count": 15,
     "metadata": {},
     "output_type": "execute_result"
    }
   ],
   "source": [
    "# copy the SAG column and the 16S column to a new df\n",
    "SSU_df=master_df[['SSU classification CREST/SILVA']].copy()\n",
    "\n",
    "# change the name to eliminate the spaces and \"/\"\n",
    "SSU_df=SSU_df.rename(columns = {'SSU classification CREST/SILVA':'SSU_classification'})\n",
    "\n",
    "# expand the classification similar to before.\n",
    "SSU_df[['domain', 'phyla', 'class', 'order', 'family', 'genus', 'species']]=SSU_df.SSU_classification.str.split(';', expand=True)\n",
    "# SSU_df=SSU_df.rename(columns = {'SSU classification CREST/SILVA':'GTDBtk_classification'})\n",
    "SSU_df.fillna('', inplace=True)\n",
    "\n",
    "SSU_df\n",
    "SSU_count = {}\n",
    "\n",
    "SSU_count['total_sags'] = len(master_df)\n",
    "SSU_count['domain']=len(SSU_df[SSU_df['domain']!='no SSU regions found'])\n",
    "\n",
    "\n",
    "for level in ['phyla','class','order','family','genus','species']:\n",
    "    # it's a true assignment if there's text beyond 'x__?' which is a four-character string.     \n",
    "    SSU_count[level] = len([i for i in SSU_df[level] if len(i) > 4])\n",
    "    \n",
    "# convert the series to a dataframe for plotting\n",
    "SSU_count_df = pd.DataFrame(data = {'tax_level':SSU_count.keys(), 'sag_count':SSU_count.values()})\n",
    "\n",
    "SSU_count_df\n"
   ]
  },
  {
   "cell_type": "code",
   "execution_count": 16,
   "metadata": {},
   "outputs": [
    {
     "data": {
      "text/html": [
       "<div>\n",
       "<style scoped>\n",
       "    .dataframe tbody tr th:only-of-type {\n",
       "        vertical-align: middle;\n",
       "    }\n",
       "\n",
       "    .dataframe tbody tr th {\n",
       "        vertical-align: top;\n",
       "    }\n",
       "\n",
       "    .dataframe thead th {\n",
       "        text-align: right;\n",
       "    }\n",
       "</style>\n",
       "<table border=\"1\" class=\"dataframe\">\n",
       "  <thead>\n",
       "    <tr style=\"text-align: right;\">\n",
       "      <th></th>\n",
       "      <th>tax_level</th>\n",
       "      <th>sag_count</th>\n",
       "      <th>method</th>\n",
       "      <th>percent_classified</th>\n",
       "    </tr>\n",
       "  </thead>\n",
       "  <tbody>\n",
       "    <tr>\n",
       "      <th>0</th>\n",
       "      <td>total_sags</td>\n",
       "      <td>226</td>\n",
       "      <td>GTDB</td>\n",
       "      <td>100.000000</td>\n",
       "    </tr>\n",
       "    <tr>\n",
       "      <th>1</th>\n",
       "      <td>domain</td>\n",
       "      <td>170</td>\n",
       "      <td>GTDB</td>\n",
       "      <td>75.221239</td>\n",
       "    </tr>\n",
       "    <tr>\n",
       "      <th>2</th>\n",
       "      <td>phyla</td>\n",
       "      <td>170</td>\n",
       "      <td>GTDB</td>\n",
       "      <td>75.221239</td>\n",
       "    </tr>\n",
       "    <tr>\n",
       "      <th>3</th>\n",
       "      <td>class</td>\n",
       "      <td>170</td>\n",
       "      <td>GTDB</td>\n",
       "      <td>75.221239</td>\n",
       "    </tr>\n",
       "    <tr>\n",
       "      <th>4</th>\n",
       "      <td>order</td>\n",
       "      <td>170</td>\n",
       "      <td>GTDB</td>\n",
       "      <td>75.221239</td>\n",
       "    </tr>\n",
       "    <tr>\n",
       "      <th>...</th>\n",
       "      <td>...</td>\n",
       "      <td>...</td>\n",
       "      <td>...</td>\n",
       "      <td>...</td>\n",
       "    </tr>\n",
       "    <tr>\n",
       "      <th>3</th>\n",
       "      <td>class</td>\n",
       "      <td>67</td>\n",
       "      <td>SSU</td>\n",
       "      <td>29.646018</td>\n",
       "    </tr>\n",
       "    <tr>\n",
       "      <th>4</th>\n",
       "      <td>order</td>\n",
       "      <td>67</td>\n",
       "      <td>SSU</td>\n",
       "      <td>29.646018</td>\n",
       "    </tr>\n",
       "    <tr>\n",
       "      <th>5</th>\n",
       "      <td>family</td>\n",
       "      <td>59</td>\n",
       "      <td>SSU</td>\n",
       "      <td>26.106195</td>\n",
       "    </tr>\n",
       "    <tr>\n",
       "      <th>6</th>\n",
       "      <td>genus</td>\n",
       "      <td>17</td>\n",
       "      <td>SSU</td>\n",
       "      <td>7.522124</td>\n",
       "    </tr>\n",
       "    <tr>\n",
       "      <th>7</th>\n",
       "      <td>species</td>\n",
       "      <td>0</td>\n",
       "      <td>SSU</td>\n",
       "      <td>0.000000</td>\n",
       "    </tr>\n",
       "  </tbody>\n",
       "</table>\n",
       "<p>16 rows × 4 columns</p>\n",
       "</div>"
      ],
      "text/plain": [
       "     tax_level  sag_count method  percent_classified\n",
       "0   total_sags        226   GTDB          100.000000\n",
       "1       domain        170   GTDB           75.221239\n",
       "2        phyla        170   GTDB           75.221239\n",
       "3        class        170   GTDB           75.221239\n",
       "4        order        170   GTDB           75.221239\n",
       "..         ...        ...    ...                 ...\n",
       "3        class         67    SSU           29.646018\n",
       "4        order         67    SSU           29.646018\n",
       "5       family         59    SSU           26.106195\n",
       "6        genus         17    SSU            7.522124\n",
       "7      species          0    SSU            0.000000\n",
       "\n",
       "[16 rows x 4 columns]"
      ]
     },
     "execution_count": 16,
     "metadata": {},
     "output_type": "execute_result"
    }
   ],
   "source": [
    "# add a method column to our dfs so that we can distinguish the techniques\n",
    "class_count_df['method']='GTDB'\n",
    "SSU_count_df['method']='SSU'\n",
    "\n",
    "# stack the dataframes into a single dataframe for easier plotting\n",
    "compare_df=pd.concat([class_count_df, SSU_count_df])\n",
    "\n",
    "# add a percent column\n",
    "compare_df['percent_classified']=compare_df['sag_count']/tsags*100\n",
    "\n",
    "compare_df"
   ]
  },
  {
   "cell_type": "code",
   "execution_count": 17,
   "metadata": {},
   "outputs": [
    {
     "data": {
      "image/png": "[encoded data removed]",
      "text/plain": [
       "<Figure size 432x288 with 1 Axes>"
      ]
     },
     "metadata": {
      "needs_background": "light"
     },
     "output_type": "display_data"
    }
   ],
   "source": [
    "\n",
    "# plot the data. We are using seaborn this time because it handles assigning colors \n",
    "# to strings in columns much better than matolotlib\n",
    "sns.barplot(data=compare_df, x='tax_level', y='sag_count', hue='method')\n",
    "\n",
    "#add labels and titles\n",
    "plt.xlabel('Taxonomic classification')\n",
    "plt.ylabel('number of SAGs')\n",
    "plt.title('Comparsion of SSU and GTDB SAG classification')\n",
    "\n",
    "plt.savefig(os.path.join(figdir,\"GTDB_SSU_classification_comparsion.pdf\"))\n"
   ]
  },
  {
   "cell_type": "code",
   "execution_count": 18,
   "metadata": {},
   "outputs": [
    {
     "data": {
      "image/png": "[encoded data removed]",
      "text/plain": [
       "<Figure size 432x288 with 1 Axes>"
      ]
     },
     "metadata": {
      "needs_background": "light"
     },
     "output_type": "display_data"
    }
   ],
   "source": [
    "# generate a plot of the percentages\n",
    "sns.barplot(data=compare_df, x='tax_level', y='percent_classified', hue='method')\n",
    "\n",
    "plt.xlabel('Taxonomic classification')\n",
    "plt.ylabel('percent of SAGs')\n",
    "plt.title('Comparsion of SSU and GTDB SAG classification(%)')\n",
    "\n",
    "plt.savefig(os.path.join(figdir,\"GTDB_SSU_classification_comparsion_percentages.pdf\"))"
   ]
  },
  {
   "cell_type": "markdown",
   "metadata": {
    "tags": []
   },
   "source": [
    "Wow we drastically increased the number of SAGs that are classified at every taxonomic level just by switching from SSU to GTDB which uses the entire genome to classify a cells genome. Not only do we have more cells classified but we also have better classifications for those cells. We more than doubled the percent of cells that we have genera level classifications for (~30% to 75%) and we have species classifications for 120 SAGs where as before no SAGs were classified to the species level.\n",
    "\n",
    "# 15 minute break\n",
    "when we come back we will be diving deeper into the taxonomic distribution of the cells"
   ]
  },
  {
   "cell_type": "markdown",
   "metadata": {},
   "source": [
    "### Now lets dive into the data a bit more and see what the distribution of different taxonomic groups is"
   ]
  },
  {
   "cell_type": "code",
   "execution_count": 19,
   "metadata": {},
   "outputs": [
    {
     "name": "stdout",
     "output_type": "stream",
     "text": [
      "d__Bacteria    170\n",
      "Name: domain, dtype: int64\n"
     ]
    }
   ],
   "source": [
    "# lets start with the distribution of Bacteria and Archaea\n",
    "print(master_df.domain.value_counts())\n"
   ]
  },
  {
   "cell_type": "code",
   "execution_count": 20,
   "metadata": {},
   "outputs": [
    {
     "ename": "SyntaxError",
     "evalue": "invalid syntax (2670553401.py, line 2)",
     "output_type": "error",
     "traceback": [
      "\u001b[0;36m  File \u001b[0;32m\"/tmp/ipykernel_1485857/2670553401.py\"\u001b[0;36m, line \u001b[0;32m2\u001b[0m\n\u001b[0;31m    print(master_df.class.value_counts())\u001b[0m\n\u001b[0m                    ^\u001b[0m\n\u001b[0;31mSyntaxError\u001b[0m\u001b[0;31m:\u001b[0m invalid syntax\n"
     ]
    }
   ],
   "source": [
    "# and class\n",
    "print(master_df.class.value_counts()) "
   ]
  },
  {
   "cell_type": "markdown",
   "metadata": {},
   "source": [
    "note the class level does not work because class is a method in python instead we can use the groupby function\n"
   ]
  },
  {
   "cell_type": "code",
   "execution_count": null,
   "metadata": {},
   "outputs": [],
   "source": [
    "\n",
    "grouped=master_df.groupby('class')['cells'].count()\n",
    "grouped#.sort()\n"
   ]
  },
  {
   "cell_type": "markdown",
   "metadata": {},
   "source": [
    "Another way to do this is by using a function called Counter:"
   ]
  },
  {
   "cell_type": "markdown",
   "metadata": {
    "jp-MarkdownHeadingCollapsed": true,
    "tags": []
   },
   "source": [
    "### Challenge 1: look at the distribution for the other taxonomic levels (phyla, order, family, genus, species) and sort the output from high to low\n"
   ]
  },
  {
   "cell_type": "code",
   "execution_count": null,
   "metadata": {
    "tags": []
   },
   "outputs": [],
   "source": [
    "\n",
    "# print top five groups in each level\n",
    "for taxa in ['domain', 'phyla','class','order','family','genus','species']:\n",
    "    print(master_df.groupby(taxa)['cells'].count().sort_values(ascending=False)[:5])\n",
    "    print(\"\\n\")"
   ]
  },
  {
   "cell_type": "markdown",
   "metadata": {
    "tags": []
   },
   "source": [
    "### Enter your attempts below"
   ]
  },
  {
   "cell_type": "code",
   "execution_count": null,
   "metadata": {},
   "outputs": [],
   "source": []
  },
  {
   "cell_type": "markdown",
   "metadata": {},
   "source": [
    "Lets start by taking a closer look at the distribution of different orders"
   ]
  },
  {
   "cell_type": "code",
   "execution_count": null,
   "metadata": {},
   "outputs": [],
   "source": [
    "order_df = master_df.groupby('order', as_index=False)['SAG'].count().sort_values(by = 'SAG')\n",
    "\n",
    "order_df.plot('order','SAG',kind = 'bar')\n",
    "\n",
    "plt.savefig(os.path.join(figdir,\"GTDB_order_distribution.pdf\"))"
   ]
  },
  {
   "cell_type": "markdown",
   "metadata": {},
   "source": [
    "Unsurprisingly there are a lot of pelagibacterales in this sample followed by SAR86 cells.\n",
    "<br>\n",
    "\n",
    "As we saw above all the cells that are classified are classified to at least the genus level so lets go ahead and look at the distribution of genera within this sample. \n"
   ]
  },
  {
   "cell_type": "code",
   "execution_count": null,
   "metadata": {},
   "outputs": [],
   "source": [
    "genera_df = master_df.groupby('genus', as_index=False)['SAG'].count().sort_values(by = 'SAG')\n",
    "\n",
    "genera_df.plot('genus','SAG',kind = 'bar')\n",
    "\n",
    "plt.savefig(os.path.join(figdir,\"GTDB_genus_distribution.pdf\"))\n"
   ]
  },
  {
   "cell_type": "markdown",
   "metadata": {},
   "source": [
    "There are a lot of genera in this sample so lets focus on just the genera within Alphaproteobacteria."
   ]
  },
  {
   "cell_type": "code",
   "execution_count": null,
   "metadata": {},
   "outputs": [],
   "source": [
    "alpha_genera = master_df[(master_df['class'] == 'c__Alphaproteobacteria')].groupby('genus', as_index=False)['SAG'].count().sort_values(by = 'SAG')\n",
    "\n",
    "alpha_genera.plot('genus','SAG',kind = 'bar')\n",
    "\n",
    "plt.savefig(os.path.join(figdir,\"GTDB_alphaproteobacteria_genera_distribution.pdf\"))\n"
   ]
  },
  {
   "cell_type": "code",
   "execution_count": null,
   "metadata": {},
   "outputs": [],
   "source": [
    "sar11_specs = master_df.dropna(subset = ['genus'])[(master_df.dropna(subset = ['genus'])['genus'].str.contains('Pelagibacter'))].fillna('unknown').groupby('species', as_index=False)['SAG'].count().sort_values(by = 'SAG')\n",
    "\n",
    "sar11_specs.dropna().plot('species','SAG',kind = 'bar')\n",
    "\n",
    "plt.savefig(os.path.join(figdir,\"GTDB_SAR11_species_distribution.pdf\"))\n"
   ]
  },
  {
   "cell_type": "markdown",
   "metadata": {},
   "source": [
    "So a lot of Pelagibacter whose species is unknown.  And if their species is defined, they are unique relative to other members on the plate. That's kind of cool, and speaks to the novelty that we observed across the global tropical surface ocean.  "
   ]
  },
  {
   "cell_type": "markdown",
   "metadata": {
    "jp-MarkdownHeadingCollapsed": true,
    "tags": []
   },
   "source": [
    "\n",
    "\n",
    "### Challenge 2: Examine the average genome size, completeness, estimated diameter, and number of cells for all members of given taxonomic level and create a plot to look at these distributions"
   ]
  },
  {
   "cell_type": "code",
   "execution_count": null,
   "metadata": {},
   "outputs": [],
   "source": [
    "# calculate the mean for selected genome assembly parameters\n",
    "genome_statistics=master_df.groupby('genus')['Assembly size (Mbp)', 'Estimated cell diameter (μm)',\n",
    "                                             'Genome completeness (%)'].mean()\n",
    "\n",
    "# Calculate the total number of cells for each genus\n",
    "genus_counts=master_df.groupby(['genus','class'])['cells'].sum()\n",
    "\n",
    "genome_statistics=genome_statistics.merge(genus_counts, left_index=True, right_index=True)\n",
    "genome_statistics=genome_statistics.round(2)\n",
    "genome_statistics.reset_index(inplace=True)\n",
    "genome_statistics"
   ]
  },
  {
   "cell_type": "code",
   "execution_count": null,
   "metadata": {},
   "outputs": [],
   "source": [
    "# Create the a scatter plot with the assembly size and genome completentess.\n",
    "# We are using seaborn here because it handles converting strings to colors much better than matplotlib\n",
    "sns.scatterplot(data=genome_statistics, x='Assembly size (Mbp)', y='Genome completeness (%)', \n",
    "                size='cells', hue='class')\n",
    "plt.xlabel('average assembly size')\n",
    "plt.ylabel('average percent complete')\n",
    "plt.title('Average Genome statistics for genera')\n",
    "\n",
    "plt.legend(bbox_to_anchor=(1.05, 1), loc=2, borderaxespad=0.)\n",
    "\n",
    "plt.savefig(os.path.join(figdir,\"Genome_statistics_for_genera.pdf\"))"
   ]
  },
  {
   "cell_type": "markdown",
   "metadata": {},
   "source": [
    "### enter your code below"
   ]
  },
  {
   "cell_type": "code",
   "execution_count": null,
   "metadata": {},
   "outputs": [],
   "source": []
  },
  {
   "cell_type": "markdown",
   "metadata": {
    "jp-MarkdownHeadingCollapsed": true,
    "tags": []
   },
   "source": [
    "### Challenge 2.5: What if you wanted to add the standard deviation to your analysis?"
   ]
  },
  {
   "cell_type": "code",
   "execution_count": null,
   "metadata": {},
   "outputs": [],
   "source": [
    "genome_stdev=master_df.groupby('genus')['Estimated cell diameter (μm)', 'Assembly size (Mbp)', \n",
    "                                             'Genome completeness (%)'].std()\n",
    "genome_stdev=genome_stdev.rename(columns={'Estimated cell diameter (μm)':'Estimated cell diameter (μm) stdev',\n",
    "                                          'Assembly size (Mbp)':'Assembly size (Mbp)_stdev', \n",
    "                                          'Genome completeness (%)':'Genome completeness (%)_stdev'})\n",
    "genome_statistics=genome_statistics.merge(genome_stdev, on='genus')\n",
    "genome_statistics"
   ]
  },
  {
   "cell_type": "code",
   "execution_count": null,
   "metadata": {},
   "outputs": [],
   "source": [
    "# create a barplot and examine the variations of the estiamted diameter\n",
    "\n",
    "sns.barplot(data=genome_statistics, x='genus', y='Estimated cell diameter (μm)', hue='class', \n",
    "            yerr=genome_statistics['Estimated cell diameter (μm) stdev'])\n",
    "plt.xlabel('genus')\n",
    "plt.ylabel('Average estimated cell size')\n",
    "plt.title('Average estimated cell size by genus')\n",
    "\n",
    "plt.legend(bbox_to_anchor=(1.05, 1), loc=2, borderaxespad=0.)\n",
    "plt.xticks(rotation=90)\n",
    "\n",
    "plt.savefig(os.path.join(figdir,\"Estimated_cell_size_for_genera.pdf\"))"
   ]
  },
  {
   "cell_type": "markdown",
   "metadata": {},
   "source": [
    "### enter your attempts below"
   ]
  },
  {
   "cell_type": "code",
   "execution_count": null,
   "metadata": {},
   "outputs": [],
   "source": []
  },
  {
   "cell_type": "markdown",
   "metadata": {},
   "source": [
    "# Additional exploratory ideas\n",
    "\n",
    "1. How many genera have at least 3 cells that were assigned to them?\n",
    "1. What genus has the smallest average estimated genome size? how about the largest?\n",
    "    1. Consider limiting this analysis to only those genera with at least 3 cells\n",
    "1. How many Gammaproteobacteria genera were identified?\n",
    "1. What genus has the smallest cells? How about the largest?\n",
    "1. Imagine that you don't know the location of this sample. How would you use the taxonomic classifications to narrow down the location of the sample\n",
    "1. Is there a correlation between cell size and genome size\n",
    "1. Is there a correlation between WGA-X Cp (h) and Assembly size? how about between WGA-X Cp (h) and genome completeness"
   ]
  },
  {
   "cell_type": "code",
   "execution_count": null,
   "metadata": {},
   "outputs": [],
   "source": []
  }
 ],
 "metadata": {
  "kernelspec": {
   "display_name": "biopy",
   "language": "python",
   "name": "biopy"
  },
  "language_info": {
   "codemirror_mode": {
    "name": "ipython",
    "version": 3
   },
   "file_extension": ".py",
   "mimetype": "text/x-python",
   "name": "python",
   "nbconvert_exporter": "python",
   "pygments_lexer": "ipython3",
   "version": "3.10.0"
  }
 },
 "nbformat": 4,
 "nbformat_minor": 4
}
